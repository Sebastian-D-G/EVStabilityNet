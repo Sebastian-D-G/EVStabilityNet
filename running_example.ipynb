{
 "cells": [
  {
   "cell_type": "markdown",
   "id": "d1900706",
   "metadata": {},
   "source": [
    "# Quick start of the EVStabilityNet"
   ]
  },
  {
   "cell_type": "code",
   "execution_count": 18,
   "id": "09481540",
   "metadata": {},
   "outputs": [],
   "source": [
    "import numpy as np\n",
    "import tensorflow as tf\n",
    "from tensorflow.keras.models import load_model\n",
    "import math\n",
    "import os\n"
   ]
  },
  {
   "cell_type": "markdown",
   "id": "3d0b517e",
   "metadata": {},
   "source": [
    "# Load model from folder"
   ]
  },
  {
   "cell_type": "code",
   "execution_count": 9,
   "id": "6eb17faf",
   "metadata": {},
   "outputs": [],
   "source": [
    "model = load_model('EVStabilityNet_v1', compile=False)"
   ]
  },
  {
   "cell_type": "markdown",
   "id": "467b6185",
   "metadata": {},
   "source": [
    "# Function for evaluating performance on test set"
   ]
  },
  {
   "cell_type": "code",
   "execution_count": 10,
   "id": "814bd9a7",
   "metadata": {},
   "outputs": [],
   "source": [
    "def misclassified_ratio(y_predict, y_train):\n",
    "    \"\"\"\n",
    "    Arguments:\n",
    "        y_predict: (ndarray Shape (m,1))   predicted y values by model\n",
    "        y_train: (ndarray Shape (m,1))   actual y values from training set\n",
    "    Returns: \n",
    "        ratio of misclassified elements \n",
    "        mis_idx: (ndarray Shape (n,1))  n wrong classified indices\n",
    "    \"\"\"\n",
    "    num_examples = len(y_train)\n",
    "    assert len(y_predict) == num_examples, \"Error in missclassfied_ratio function\"\n",
    "    \n",
    "    misclass = 0\n",
    "    mis_idx = []\n",
    "    for idx in range(num_examples):\n",
    "        if y_predict[idx] != y_train[idx]:\n",
    "            misclass += 1\n",
    "            mis_idx.append(idx)\n",
    "            \n",
    "    return misclass/num_examples, mis_idx"
   ]
  },
  {
   "cell_type": "markdown",
   "id": "7ad43176",
   "metadata": {},
   "source": [
    "# Function for loading test data from folders"
   ]
  },
  {
   "cell_type": "code",
   "execution_count": 30,
   "id": "8d16a15b",
   "metadata": {},
   "outputs": [],
   "source": [
    "def create_testset(n, folderpath = \"data_testset/train_\"):\n",
    "    \"\"\"\n",
    "    Creates data used for the test set\n",
    "    Arguments:\n",
    "        n: number of training files specified in folderpath + str(int) (idx = 0, ..., n)\n",
    "        folderpath: path and filenames for test data structed as follows:\n",
    "            first line: (kappa, stability) \n",
    "            second-last line: energy profile function in 1/1000 increments on [0,1]\n",
    "    Returns:\n",
    "        Two tensorflow-tensors of size (n,2,640)\n",
    "    \"\"\"\n",
    "    data1 = []\n",
    "    data2 = []\n",
    "    for i in range(n):\n",
    "        filename = folderpath +  str(i) + \".txt\"\n",
    "        if os.path.isfile(filename):\n",
    "            with open(filename, 'r') as f:\n",
    "                \n",
    "                # read the first line separately to get the first column and the second element of the first line\n",
    "                first_line = f.readline().strip().split()\n",
    "                kappa = float(first_line[0])\n",
    "                kappa_column = np.array( [kappa for j in range(1000)], dtype=float)\n",
    "                stability = float(first_line[1])\n",
    "                phi_column = np.array([ float(line.strip().split()[0]) for line in f], dtype=float)\n",
    "                \n",
    "                # Set the energy profile function to 0 outside of the relevant values\n",
    "                for idx in range(len(phi_column)):\n",
    "                    if idx/999. > 1. - np.exp(-kappa):\n",
    "                        phi_column[idx] = 0\n",
    "                        \n",
    "                data1.extend( [[kappa_column, phi_column]])\n",
    "                data2.append(stability)\n",
    "\n",
    "        else:\n",
    "            print(\"File does not exist:\", filename)\n",
    "\n",
    "    # convert the data lists to np array\n",
    "    data1_tensor = tf.convert_to_tensor(data1, dtype=tf.float32)\n",
    "    data2_tensor = tf.convert_to_tensor(data2, dtype=tf.float32)\n",
    "    \n",
    "    # Crop the data for the networks architecture\n",
    "    data1_tensor = data1_tensor[:,:,:640]\n",
    "\n",
    "    \n",
    "    return data1_tensor, data2_tensor\n"
   ]
  },
  {
   "cell_type": "markdown",
   "id": "a5f93ce4",
   "metadata": {},
   "source": [
    "# Create test data, run test data through the network, calculate misclassified ratio"
   ]
  },
  {
   "cell_type": "code",
   "execution_count": 31,
   "id": "d578c5eb",
   "metadata": {},
   "outputs": [
    {
     "name": "stdout",
     "output_type": "stream",
     "text": [
      "Missclassfied examples ratio on test set: 0.01\n",
      "Missclassfied examples: [64, 194, 242, 357, 419]\n"
     ]
    }
   ],
   "source": [
    "# Create test data from folder\n",
    "X_test,y_test = create_testset(500, folderpath = \"data_testset/test_\")\n",
    "\n",
    "# Test set evaluation\n",
    "prediction_test = model.predict(X_test, verbose=0)\n",
    "prob_predict_test  = tf.nn.sigmoid(prediction_test)\n",
    "\n",
    "y_test_predict = np.array( (prob_predict_test > 0.5))\n",
    "\n",
    "accuracy_test, mis_idx_test= misclassified_ratio(y_test_predict, y_test)\n",
    "print(\"Missclassfied examples ratio on test set:\", accuracy_test)\n",
    "print(\"Missclassfied examples:\", mis_idx_test)"
   ]
  },
  {
   "cell_type": "code",
   "execution_count": null,
   "id": "58a2fc28",
   "metadata": {},
   "outputs": [],
   "source": []
  },
  {
   "cell_type": "code",
   "execution_count": null,
   "id": "9b44b8d8",
   "metadata": {},
   "outputs": [],
   "source": []
  }
 ],
 "metadata": {
  "kernelspec": {
   "display_name": "Python 3 (ipykernel)",
   "language": "python",
   "name": "python3"
  },
  "language_info": {
   "codemirror_mode": {
    "name": "ipython",
    "version": 3
   },
   "file_extension": ".py",
   "mimetype": "text/x-python",
   "name": "python",
   "nbconvert_exporter": "python",
   "pygments_lexer": "ipython3",
   "version": "3.9.13"
  }
 },
 "nbformat": 4,
 "nbformat_minor": 5
}
